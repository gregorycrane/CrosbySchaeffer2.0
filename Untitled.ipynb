{
 "cells": [
  {
   "cell_type": "markdown",
   "metadata": {},
   "source": []
  },
  {
   "cell_type": "markdown",
   "metadata": {},
   "source": []
  },
  {
   "cell_type": "markdown",
   "metadata": {},
   "source": [
    "# Imperfect Indicative Active of ω-verbs\n",
    "\n",
    "> ἔργον δ᾽ οὐδὲν ὄνειδος, ἀεργίη δέ τ᾽ ὄνειδος.\n",
    ">\n",
    "> Work is no disgrace, but idleness is a disgrace.\n",
    ">> Hesiod, Works and Days, 311.\n",
    "\n",
    "## 41. \n",
    "**The Imperfect Tense.** This tense denotes action\n",
    "continued, repeated, customary, or attempted in past time:\n",
    "\n",
    "| ἔπαυον | I was stopping, I kept stopping, I used to stop, I tried to stop.|"
   ]
  },
  {
   "cell_type": "code",
   "execution_count": null,
   "metadata": {},
   "outputs": [],
   "source": []
  }
 ],
 "metadata": {
  "kernelspec": {
   "display_name": "Python 3 (ipykernel)",
   "language": "python",
   "name": "python3"
  },
  "language_info": {
   "codemirror_mode": {
    "name": "ipython",
    "version": 3
   },
   "file_extension": ".py",
   "mimetype": "text/x-python",
   "name": "python",
   "nbconvert_exporter": "python",
   "pygments_lexer": "ipython3",
   "version": "3.10.9"
  }
 },
 "nbformat": 4,
 "nbformat_minor": 4
}
